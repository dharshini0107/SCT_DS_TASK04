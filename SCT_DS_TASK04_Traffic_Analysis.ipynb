{
  "nbformat": 4,
  "nbformat_minor": 0,
  "metadata": {
    "colab": {
      "provenance": [],
      "authorship_tag": "ABX9TyOUycu8z1ba6Z7Ib8oYCMel",
      "include_colab_link": true
    },
    "kernelspec": {
      "name": "python3",
      "display_name": "Python 3"
    },
    "language_info": {
      "name": "python"
    }
  },
  "cells": [
    {
      "cell_type": "markdown",
      "metadata": {
        "id": "view-in-github",
        "colab_type": "text"
      },
      "source": [
        "<a href=\"https://colab.research.google.com/github/dharshini0107/SCT_DS_TASK04/blob/main/SCT_DS_TASK04_Traffic_Analysis.ipynb\" target=\"_parent\"><img src=\"https://colab.research.google.com/assets/colab-badge.svg\" alt=\"Open In Colab\"/></a>"
      ]
    },
    {
      "cell_type": "code",
      "execution_count": null,
      "metadata": {
        "id": "sk1CLIGXcNSN"
      },
      "outputs": [],
      "source": [
        "from google.colab import files\n",
        "uploaded = files.upload()"
      ]
    },
    {
      "cell_type": "code",
      "source": [
        "import zipfile\n",
        "\n",
        "with zipfile.ZipFile(\"US_Accidents_March23.csv.zip\", \"r\") as zip_ref:\n",
        "    zip_ref.extractall()\n",
        "\n",
        "print(\"✅ File Unzipped!\")"
      ],
      "metadata": {
        "id": "Nq62Qxhgdcmv"
      },
      "execution_count": null,
      "outputs": []
    },
    {
      "cell_type": "code",
      "source": [
        "import pandas as pd\n",
        "\n",
        "df = pd.read_csv(\"US_Accidents_March23.csv\")\n",
        "df.head()"
      ],
      "metadata": {
        "id": "9svAFHaTdgfu"
      },
      "execution_count": null,
      "outputs": []
    },
    {
      "cell_type": "code",
      "source": [
        "import pandas as pd\n",
        "import matplotlib.pyplot as plt\n",
        "import seaborn as sns"
      ],
      "metadata": {
        "id": "nSL8JdWtdpp0"
      },
      "execution_count": null,
      "outputs": []
    },
    {
      "cell_type": "code",
      "source": [
        "df = pd.read_csv(\"US_Accidents_March23.csv\")\n",
        "df.shape, df.columns"
      ],
      "metadata": {
        "id": "mpr6KCkSdsyD"
      },
      "execution_count": null,
      "outputs": []
    },
    {
      "cell_type": "code",
      "source": [
        "# Drop rows with missing Start_Time or Weather_Condition\n",
        "df = df.dropna(subset=['Start_Time', 'Weather_Condition'])\n",
        "\n",
        "# Convert Start_Time to datetime\n",
        "df['Start_Time'] = pd.to_datetime(df['Start_Time'])\n",
        "\n",
        "# Extract useful time info\n",
        "df['Hour'] = df['Start_Time'].dt.hour\n",
        "df['Day'] = df['Start_Time'].dt.day_name()"
      ],
      "metadata": {
        "id": "Jg95MTvTdv2l"
      },
      "execution_count": null,
      "outputs": []
    },
    {
      "cell_type": "code",
      "source": [
        "plt.figure(figsize=(10,5))\n",
        "sns.countplot(y='Weather_Condition', data=df, order=df['Weather_Condition'].value_counts().head(10).index)\n",
        "plt.title(\"Top 10 Weather Conditions Causing Accidents\")\n",
        "plt.show()"
      ],
      "metadata": {
        "id": "zP7r4IJFdz2b"
      },
      "execution_count": null,
      "outputs": []
    },
    {
      "cell_type": "code",
      "source": [
        "plt.figure(figsize=(10,5))\n",
        "sns.histplot(df['Hour'], bins=24, kde=True)\n",
        "plt.title(\"Accidents by Time of Day\")\n",
        "plt.xlabel(\"Hour\")\n",
        "plt.show()"
      ],
      "metadata": {
        "id": "64x6g2Dxd3Pi"
      },
      "execution_count": null,
      "outputs": []
    },
    {
      "cell_type": "code",
      "source": [
        "plt.figure(figsize=(8,5))\n",
        "sns.countplot(x='Day', data=df, order=['Monday','Tuesday','Wednesday','Thursday','Friday','Saturday','Sunday'])\n",
        "plt.title(\"Accidents by Day of Week\")\n",
        "plt.xticks(rotation=45)\n",
        "plt.show()"
      ],
      "metadata": {
        "id": "xE8GooAid7qp"
      },
      "execution_count": null,
      "outputs": []
    }
  ]
}